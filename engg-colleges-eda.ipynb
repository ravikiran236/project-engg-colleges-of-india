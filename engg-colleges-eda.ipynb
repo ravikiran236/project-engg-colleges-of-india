{
 "cells": [
  {
   "cell_type": "markdown",
   "metadata": {},
   "source": [
    "### Import Necessary Packages and Load the data"
   ]
  },
  {
   "cell_type": "code",
   "execution_count": 15,
   "metadata": {},
   "outputs": [],
   "source": [
    "import os\n",
    "import pandas as pd\n",
    "import numpy as np\n",
    "import matplotlib.pyplot as plt\n",
    "import seaborn as sns"
   ]
  },
  {
   "cell_type": "code",
   "execution_count": 2,
   "metadata": {},
   "outputs": [],
   "source": [
    "os.chdir('D:/ML Hackathon/WebScraping/lat&long/FINAL')\n",
    "data = pd.read_csv('Engineering_colleges.csv')"
   ]
  },
  {
   "cell_type": "code",
   "execution_count": 3,
   "metadata": {},
   "outputs": [],
   "source": [
    "data_reviews = pd.read_csv('data_reviews.csv')"
   ]
  },
  {
   "cell_type": "code",
   "execution_count": 4,
   "metadata": {},
   "outputs": [
    {
     "data": {
      "text/html": [
       "<div>\n",
       "<style scoped>\n",
       "    .dataframe tbody tr th:only-of-type {\n",
       "        vertical-align: middle;\n",
       "    }\n",
       "\n",
       "    .dataframe tbody tr th {\n",
       "        vertical-align: top;\n",
       "    }\n",
       "\n",
       "    .dataframe thead th {\n",
       "        text-align: right;\n",
       "    }\n",
       "</style>\n",
       "<table border=\"1\" class=\"dataframe\">\n",
       "  <thead>\n",
       "    <tr style=\"text-align: right;\">\n",
       "      <th></th>\n",
       "      <th>Institute_Name</th>\n",
       "      <th>Location</th>\n",
       "      <th>Sector</th>\n",
       "      <th>Review_Count</th>\n",
       "      <th>Fee</th>\n",
       "      <th>Exam</th>\n",
       "      <th>Rating</th>\n",
       "      <th>Latitude</th>\n",
       "      <th>Longitude</th>\n",
       "      <th>State</th>\n",
       "    </tr>\n",
       "  </thead>\n",
       "  <tbody>\n",
       "    <tr>\n",
       "      <th>0</th>\n",
       "      <td>University of Petroleum and Energy Studies</td>\n",
       "      <td>Dehradun</td>\n",
       "      <td>Private</td>\n",
       "      <td>56</td>\n",
       "      <td>0.0</td>\n",
       "      <td>NaN</td>\n",
       "      <td>AAAA (Very Good)</td>\n",
       "      <td>30.325565</td>\n",
       "      <td>78.043681</td>\n",
       "      <td>Uttarakhand</td>\n",
       "    </tr>\n",
       "    <tr>\n",
       "      <th>1</th>\n",
       "      <td>Manipal Institute of Technology</td>\n",
       "      <td>Manipal</td>\n",
       "      <td>Private</td>\n",
       "      <td>153</td>\n",
       "      <td>1540000.0</td>\n",
       "      <td>MET</td>\n",
       "      <td>AAAA (Very Good)</td>\n",
       "      <td>13.351972</td>\n",
       "      <td>74.787031</td>\n",
       "      <td>Karnataka</td>\n",
       "    </tr>\n",
       "    <tr>\n",
       "      <th>2</th>\n",
       "      <td>SRM Institute of Science and Technology</td>\n",
       "      <td>Kattankulathur</td>\n",
       "      <td>Private</td>\n",
       "      <td>328</td>\n",
       "      <td>1000000.0</td>\n",
       "      <td>JEE Main</td>\n",
       "      <td>AAAA (Very Good)</td>\n",
       "      <td>12.816150</td>\n",
       "      <td>80.036770</td>\n",
       "      <td>Tamil Nadu</td>\n",
       "    </tr>\n",
       "    <tr>\n",
       "      <th>3</th>\n",
       "      <td>Vellore Institute of Technology</td>\n",
       "      <td>Vellore</td>\n",
       "      <td>Private</td>\n",
       "      <td>350</td>\n",
       "      <td>780000.0</td>\n",
       "      <td>VITEEE</td>\n",
       "      <td>AAAA (Very Good)</td>\n",
       "      <td>12.907175</td>\n",
       "      <td>79.130969</td>\n",
       "      <td>Tamil Nadu</td>\n",
       "    </tr>\n",
       "    <tr>\n",
       "      <th>4</th>\n",
       "      <td>Jain University</td>\n",
       "      <td>Ramanagara</td>\n",
       "      <td>Private</td>\n",
       "      <td>58</td>\n",
       "      <td>0.0</td>\n",
       "      <td>NaN</td>\n",
       "      <td>No Rating</td>\n",
       "      <td>12.725277</td>\n",
       "      <td>77.280480</td>\n",
       "      <td>Karnataka</td>\n",
       "    </tr>\n",
       "  </tbody>\n",
       "</table>\n",
       "</div>"
      ],
      "text/plain": [
       "                               Institute_Name        Location   Sector  \\\n",
       "0  University of Petroleum and Energy Studies        Dehradun  Private   \n",
       "1             Manipal Institute of Technology         Manipal  Private   \n",
       "2     SRM Institute of Science and Technology  Kattankulathur  Private   \n",
       "3             Vellore Institute of Technology         Vellore  Private   \n",
       "4                             Jain University      Ramanagara  Private   \n",
       "\n",
       "   Review_Count        Fee        Exam            Rating   Latitude  \\\n",
       "0            56        0.0         NaN  AAAA (Very Good)  30.325565   \n",
       "1           153  1540000.0        MET   AAAA (Very Good)  13.351972   \n",
       "2           328  1000000.0   JEE Main   AAAA (Very Good)  12.816150   \n",
       "3           350   780000.0     VITEEE   AAAA (Very Good)  12.907175   \n",
       "4            58        0.0         NaN         No Rating  12.725277   \n",
       "\n",
       "   Longitude        State  \n",
       "0  78.043681  Uttarakhand  \n",
       "1  74.787031    Karnataka  \n",
       "2  80.036770   Tamil Nadu  \n",
       "3  79.130969   Tamil Nadu  \n",
       "4  77.280480    Karnataka  "
      ]
     },
     "execution_count": 4,
     "metadata": {},
     "output_type": "execute_result"
    }
   ],
   "source": [
    "data.head()"
   ]
  },
  {
   "cell_type": "code",
   "execution_count": 5,
   "metadata": {},
   "outputs": [
    {
     "data": {
      "text/html": [
       "<div>\n",
       "<style scoped>\n",
       "    .dataframe tbody tr th:only-of-type {\n",
       "        vertical-align: middle;\n",
       "    }\n",
       "\n",
       "    .dataframe tbody tr th {\n",
       "        vertical-align: top;\n",
       "    }\n",
       "\n",
       "    .dataframe thead th {\n",
       "        text-align: right;\n",
       "    }\n",
       "</style>\n",
       "<table border=\"1\" class=\"dataframe\">\n",
       "  <thead>\n",
       "    <tr style=\"text-align: right;\">\n",
       "      <th></th>\n",
       "      <th>institute_name</th>\n",
       "      <th>review</th>\n",
       "      <th>rating</th>\n",
       "    </tr>\n",
       "  </thead>\n",
       "  <tbody>\n",
       "    <tr>\n",
       "      <th>0</th>\n",
       "      <td>A1 Global Institute of Engineering and Technol...</td>\n",
       "      <td>\\nThe college is situated at a very good locat...</td>\n",
       "      <td>3.0</td>\n",
       "    </tr>\n",
       "    <tr>\n",
       "      <th>1</th>\n",
       "      <td>AAA College of Engineering and Technology, Thi...</td>\n",
       "      <td>\\nI would love to share my experience here. As...</td>\n",
       "      <td>5.0</td>\n",
       "    </tr>\n",
       "    <tr>\n",
       "      <th>2</th>\n",
       "      <td>AAA College of Engineering and Technology, Thi...</td>\n",
       "      <td>\\nteaching is well and good\\nrelation between ...</td>\n",
       "      <td>5.0</td>\n",
       "    </tr>\n",
       "    <tr>\n",
       "      <th>3</th>\n",
       "      <td>AAA College of Engineering and Technology, Thi...</td>\n",
       "      <td>\\n* Placements are good for CS, ECE and IS\\n* ...</td>\n",
       "      <td>5.0</td>\n",
       "    </tr>\n",
       "    <tr>\n",
       "      <th>4</th>\n",
       "      <td>AAA College of Engineering and Technology, Thi...</td>\n",
       "      <td>\\nNitte is a very good college located in Sout...</td>\n",
       "      <td>3.0</td>\n",
       "    </tr>\n",
       "  </tbody>\n",
       "</table>\n",
       "</div>"
      ],
      "text/plain": [
       "                                      institute_name  \\\n",
       "0  A1 Global Institute of Engineering and Technol...   \n",
       "1  AAA College of Engineering and Technology, Thi...   \n",
       "2  AAA College of Engineering and Technology, Thi...   \n",
       "3  AAA College of Engineering and Technology, Thi...   \n",
       "4  AAA College of Engineering and Technology, Thi...   \n",
       "\n",
       "                                              review  rating  \n",
       "0  \\nThe college is situated at a very good locat...     3.0  \n",
       "1  \\nI would love to share my experience here. As...     5.0  \n",
       "2  \\nteaching is well and good\\nrelation between ...     5.0  \n",
       "3  \\n* Placements are good for CS, ECE and IS\\n* ...     5.0  \n",
       "4  \\nNitte is a very good college located in Sout...     3.0  "
      ]
     },
     "execution_count": 5,
     "metadata": {},
     "output_type": "execute_result"
    }
   ],
   "source": [
    "data_reviews.head()"
   ]
  },
  {
   "cell_type": "code",
   "execution_count": 6,
   "metadata": {},
   "outputs": [
    {
     "data": {
      "text/plain": [
       "Institute_Name     object\n",
       "Location           object\n",
       "Sector             object\n",
       "Review_Count        int64\n",
       "Fee               float64\n",
       "Exam               object\n",
       "Rating             object\n",
       "Latitude          float64\n",
       "Longitude         float64\n",
       "State              object\n",
       "dtype: object"
      ]
     },
     "execution_count": 6,
     "metadata": {},
     "output_type": "execute_result"
    }
   ],
   "source": [
    "data.dtypes"
   ]
  },
  {
   "cell_type": "code",
   "execution_count": 7,
   "metadata": {},
   "outputs": [
    {
     "data": {
      "text/plain": [
       "institute_name     object\n",
       "review             object\n",
       "rating            float64\n",
       "dtype: object"
      ]
     },
     "execution_count": 7,
     "metadata": {},
     "output_type": "execute_result"
    }
   ],
   "source": [
    "data_reviews.dtypes"
   ]
  },
  {
   "cell_type": "code",
   "execution_count": 8,
   "metadata": {},
   "outputs": [
    {
     "data": {
      "text/plain": [
       "Institute_Name       0\n",
       "Location             0\n",
       "Sector               0\n",
       "Review_Count         0\n",
       "Fee                  0\n",
       "Exam              4204\n",
       "Rating               0\n",
       "Latitude             0\n",
       "Longitude            0\n",
       "State                0\n",
       "dtype: int64"
      ]
     },
     "execution_count": 8,
     "metadata": {},
     "output_type": "execute_result"
    }
   ],
   "source": [
    "#Checking null values\n",
    "data.isnull().sum()"
   ]
  },
  {
   "cell_type": "code",
   "execution_count": 9,
   "metadata": {},
   "outputs": [],
   "source": [
    "#Creating new category for null values in exam\n",
    "data['Exam'] = data['Exam'].fillna('No Exam')"
   ]
  },
  {
   "cell_type": "markdown",
   "metadata": {},
   "source": [
    "### Total Number of Institutes"
   ]
  },
  {
   "cell_type": "code",
   "execution_count": 10,
   "metadata": {},
   "outputs": [
    {
     "data": {
      "text/plain": [
       "6976"
      ]
     },
     "execution_count": 10,
     "metadata": {},
     "output_type": "execute_result"
    }
   ],
   "source": [
    "data['Institute_Name'].count()"
   ]
  },
  {
   "cell_type": "markdown",
   "metadata": {},
   "source": [
    "### Which entrance exam has most reach to fetch entrance to colleges?"
   ]
  },
  {
   "cell_type": "code",
   "execution_count": 11,
   "metadata": {},
   "outputs": [
    {
     "data": {
      "text/plain": [
       "Exam\n",
       "No Exam                4204\n",
       " JEE Main              1320\n",
       " AP EAMCET              260\n",
       " TS EAMCET              165\n",
       " NATA                   160\n",
       " UPSEE                  150\n",
       " KEAM                   138\n",
       " COMEDK UGET            101\n",
       " GUJCET                  96\n",
       " KCET                    68\n",
       " MAHACET                 62\n",
       " GATE                    40\n",
       " JEE Advanced            23\n",
       " JEXPO                   22\n",
       " OJEE                    21\n",
       " BCECE                   19\n",
       " WBJEE                   19\n",
       " JEECUP                  13\n",
       " CG PET                  11\n",
       " CIPET JEE               10\n",
       " Uttarakhand JEEP         9\n",
       " IPU CET                  8\n",
       " VITEEE                   4\n",
       " JEECE                    4\n",
       " CUSAT CAT                4\n",
       " BITSAT                   3\n",
       " Assam CEE                3\n",
       " IMU CET                  3\n",
       " GCET                     3\n",
       " NIPER JEE                2\n",
       " JKCET                    2\n",
       " HPCET                    2\n",
       " GITAM GAT                2\n",
       " Uni-Gauge-E              2\n",
       " Amity JEE                2\n",
       " SRMJEEE                  2\n",
       " AP POLYCET               1\n",
       " CUEE                     1\n",
       " CG PPT                   1\n",
       " AP PGECET                1\n",
       " AMU Entrance Test        1\n",
       " VTUEEE                   1\n",
       " DCECE                    1\n",
       " Gujarat PGCET            1\n",
       " HITSEEE                  1\n",
       " HP PAT                   1\n",
       " JET                      1\n",
       " KIITEE                   1\n",
       " Karnataka PGCET          1\n",
       " MET                      1\n",
       " SAEEE                    1\n",
       " TANCET                   1\n",
       " TS POLYCET               1\n",
       " UPESEAT                  1\n",
       " AEEE                     1\n",
       "Name: Institute_Name, dtype: int64"
      ]
     },
     "execution_count": 11,
     "metadata": {},
     "output_type": "execute_result"
    }
   ],
   "source": [
    "data.groupby('Exam')['Institute_Name'].count().sort_values(ascending = False)"
   ]
  },
  {
   "cell_type": "markdown",
   "metadata": {},
   "source": [
    "### Number of institutes per each rating"
   ]
  },
  {
   "cell_type": "code",
   "execution_count": 12,
   "metadata": {},
   "outputs": [
    {
     "data": {
      "text/plain": [
       "Rating\n",
       "No Rating              6432\n",
       "AAA+ (Good)             217\n",
       "AAA (Above Average)     159\n",
       "AAAA (Very Good)        124\n",
       "AAAA+ (Outstanding)      38\n",
       "AAAAA (Exceptional)       6\n",
       "Name: Institute_Name, dtype: int64"
      ]
     },
     "execution_count": 12,
     "metadata": {},
     "output_type": "execute_result"
    }
   ],
   "source": [
    "data.groupby('Rating')['Institute_Name'].count().sort_values(ascending = False)"
   ]
  },
  {
   "cell_type": "markdown",
   "metadata": {},
   "source": [
    "### Institutes per Sector"
   ]
  },
  {
   "cell_type": "code",
   "execution_count": 13,
   "metadata": {},
   "outputs": [
    {
     "data": {
      "text/plain": [
       "Sector\n",
       "Private              5629\n",
       "Public/Government    1341\n",
       "No Sector               6\n",
       "Name: Institute_Name, dtype: int64"
      ]
     },
     "execution_count": 13,
     "metadata": {},
     "output_type": "execute_result"
    }
   ],
   "source": [
    "data.groupby('Sector')['Institute_Name'].count().sort_values(ascending=False)"
   ]
  },
  {
   "cell_type": "markdown",
   "metadata": {},
   "source": [
    "### Top Institutes with high fee"
   ]
  },
  {
   "cell_type": "code",
   "execution_count": 14,
   "metadata": {},
   "outputs": [
    {
     "data": {
      "text/plain": [
       "Institute_Name\n",
       "Indian Institute of Information Technology                        11777741.0\n",
       "Amity University                                                   8268000.0\n",
       "Bapuji Institute of Engineering and Technology                     4840000.0\n",
       "College of Engineering                                             4278970.0\n",
       "Government Polytechnic                                             3441281.0\n",
       "Manipal Institute of Technology                                    3080000.0\n",
       "Government Engineering College                                     3007158.0\n",
       "Ansal University                                                   2780000.0\n",
       "Sushant School of Art and Architecture                             2780000.0\n",
       "Indian Maritime University                                         2700000.0\n",
       "Amrita School of Engineering                                       2666000.0\n",
       "School of Engineering                                              2360560.0\n",
       "International Institute of Information Technology                  2331116.0\n",
       "Institute of Engineering and Technology                            2312200.0\n",
       "Sri Vidhyanikethan Polytechnic                                     2304000.0\n",
       "ICFAI University                                                   2277600.0\n",
       "Amity School of Engineering and Technology                         2238000.0\n",
       "Rani Rashmoni School of Architecture                               2134500.0\n",
       "East West College of Engineering                                   2000000.0\n",
       "Jindal School of Art and Architecture                              2000000.0\n",
       "SRM Institute of Science and Technology                            2000000.0\n",
       "Birla Institute of Technology                                      1989000.0\n",
       "Government College of Engineering                                  1920170.0\n",
       "Jaypee Institute of Information Technology                         1884500.0\n",
       "Acharya Institute of Technology                                    1880000.0\n",
       "Manipal Academy of Higher Education                                1855000.0\n",
       "College of Engineering and Technology                              1746884.0\n",
       "Amrita Vishwa Vidyapeetham                                         1660000.0\n",
       "Birla Institute of Technology and Science                          1632500.0\n",
       "School of Computer Science                                         1630100.0\n",
       "                                                                     ...    \n",
       "Department of Polymer Science and Rubber Technology                      0.0\n",
       "Noor College of Engineering and Technology                               0.0\n",
       "Derozio Memorial College                                                 0.0\n",
       "Desh Bhagat Engineering College                                          0.0\n",
       "Dayanand College                                                         0.0\n",
       "Dayanand Anglo Vedic College                                             0.0\n",
       "Davinci School of Design and Architecture                                0.0\n",
       "Davangere University                                                     0.0\n",
       "Pacific Institute of Fashion Technology                                  0.0\n",
       "DN Polytechnic                                                           0.0\n",
       "Pacific Institute of Computer Application                                0.0\n",
       "Pacific College of Dairy and Food Technology                             0.0\n",
       "Paavaai Group of Institutions- School of Engineering                     0.0\n",
       "PTM Arya College                                                         0.0\n",
       "PSIT College of Engineering                                              0.0\n",
       "DSK International Campus                                                 0.0\n",
       "PSG Institute of Advanced Studies                                        0.0\n",
       "PRIST School of Engineering and Technology                               0.0\n",
       "PP Savani University                                                     0.0\n",
       "POGL Group of Institutions                                               0.0\n",
       "PNS Women's Institute of Technology                                      0.0\n",
       "PGP College of Arts and Science                                          0.0\n",
       "Dairy Science College                                                    0.0\n",
       "PCM SD College for Women                                                 0.0\n",
       "Daripally Anantha Ramulu College of Engineering and Technology           0.0\n",
       "Darsh Institute of Engineering and Technology                            0.0\n",
       "PA Aziz College of Engineering and Technology                            0.0\n",
       "P Indra Reddy Memorial Engineering College                               0.0\n",
       "Oyster College of Architecture                                           0.0\n",
       "Maharaja Agrasen College                                                 0.0\n",
       "Name: Fee, Length: 6194, dtype: float64"
      ]
     },
     "execution_count": 14,
     "metadata": {},
     "output_type": "execute_result"
    }
   ],
   "source": [
    "data.groupby('Institute_Name')['Fee'].sum().sort_values(ascending=False)"
   ]
  },
  {
   "cell_type": "markdown",
   "metadata": {
    "colab_type": "text",
    "id": "Jlmbc1FlwEb6"
   },
   "source": [
    "-------------"
   ]
  },
  {
   "cell_type": "markdown",
   "metadata": {
    "colab_type": "text",
    "id": "rRFujfeQo6cm"
   },
   "source": [
    "### Let’s analyze the distribution of review counts. How does the distribution look like?"
   ]
  },
  {
   "cell_type": "code",
   "execution_count": 36,
   "metadata": {},
   "outputs": [],
   "source": [
    "# plt.hist(data['Review_Count'], color = 'green', edgecolor = 'black', bins = 10)\n",
    "# plt.title('Distribution of review counts')\n",
    "# plt.xlabel('Review Counts')\n",
    "# plt.show()   # Per institute how many reviews"
   ]
  },
  {
   "cell_type": "code",
   "execution_count": 35,
   "metadata": {},
   "outputs": [],
   "source": [
    "# ax=data_reviews['institute_name'].value_counts().plot(kind='bar')\n",
    "# plt.xticks(rotation=90)\n",
    "# plt.show()"
   ]
  },
  {
   "cell_type": "markdown",
   "metadata": {},
   "source": [
    "##### Distribution is right skewed distribution, most of the institutes have reviews less than 90"
   ]
  },
  {
   "cell_type": "markdown",
   "metadata": {
    "colab_type": "text",
    "id": "17jLnGWqpmly"
   },
   "source": [
    "---------------------------------------------------------"
   ]
  },
  {
   "cell_type": "markdown",
   "metadata": {
    "colab_type": "text",
    "id": "UaxvhQeapUie"
   },
   "source": [
    "### Let’s analyze the distribution of college fees. How does the distribution look like?"
   ]
  },
  {
   "cell_type": "code",
   "execution_count": 12,
   "metadata": {
    "scrolled": true
   },
   "outputs": [
    {
     "data": {
      "image/png": "[encoded data removed]",
      "text/plain": [
       "<matplotlib.figure.Figure at 0x168e27c1550>"
      ]
     },
     "metadata": {},
     "output_type": "display_data"
    }
   ],
   "source": [
    "plt.hist(data['Fee'], color = 'orange', edgecolor = 'black', bins=50,range=[0,200000])\n",
    "plt.title('Distribution of College Fee')\n",
    "plt.xlabel('Fee')\n",
    "plt.show()   #restrict the x axis "
   ]
  },
  {
   "cell_type": "markdown",
   "metadata": {},
   "source": [
    "##### Distribution is a Right skewed distribution, and most of the colleges have fee lees than 800000"
   ]
  },
  {
   "cell_type": "markdown",
   "metadata": {
    "colab_type": "text",
    "id": "4RCINKQBpqDO"
   },
   "source": [
    "------------------------------------"
   ]
  },
  {
   "cell_type": "markdown",
   "metadata": {
    "colab_type": "text",
    "id": "lck9W01_pu2n"
   },
   "source": [
    "## Institutes with higher reviews have high fee. Test this hypothesis with appropriate visuals"
   ]
  },
  {
   "cell_type": "markdown",
   "metadata": {
    "collapsed": true
   },
   "source": [
    "##### Null Hypothesis Ho: Institute with high reviews have no significance difference with low reviews institutes\n",
    "##### Alternative hypothesis H1: High Reviews institutes have significance difference with low reviews institutes"
   ]
  },
  {
   "cell_type": "code",
   "execution_count": 30,
   "metadata": {
    "collapsed": true
   },
   "outputs": [],
   "source": [
    "#institutes with review count greater than 80 considered as high reviews institutes and less than 80 considered as low reviews institutes\n",
    "high = data[data['Review_Count']>80]\n",
    "low = data[data['Review_Count']<=80]"
   ]
  },
  {
   "cell_type": "code",
   "execution_count": 42,
   "metadata": {},
   "outputs": [
    {
     "data": {
      "text/plain": [
       "Ttest_indResult(statistic=18.87482409321844, pvalue=1.535042162284124e-77)"
      ]
     },
     "execution_count": 42,
     "metadata": {},
     "output_type": "execute_result"
    }
   ],
   "source": [
    "ttest_ind(high['Fee'],low['Fee'])"
   ]
  },
  {
   "cell_type": "markdown",
   "metadata": {
    "collapsed": true
   },
   "source": [
    "#### P-value is less than 0.05, hence we can reject null hypothesis, i.e. there is a significance difference between low review and high review institutes. The statistic value is positive which shows high review institutes have high fee compared to low review institutes."
   ]
  },
  {
   "cell_type": "markdown",
   "metadata": {},
   "source": [
    "## Institutes with high rating have high fee compared to low rating"
   ]
  },
  {
   "cell_type": "code",
   "execution_count": 32,
   "metadata": {},
   "outputs": [
    {
     "data": {
      "text/plain": [
       "array(['AAAA (Very Good)', 'No Rating', 'AAAAA (Exceptional)',\n",
       "       'AAAA+ (Outstanding)', 'AAA+ (Good)', 'AAA (Above Average)'],\n",
       "      dtype=object)"
      ]
     },
     "execution_count": 32,
     "metadata": {},
     "output_type": "execute_result"
    }
   ],
   "source": [
    "#Checking unique retings for all institutes\n",
    "data['Rating'].unique()"
   ]
  },
  {
   "cell_type": "code",
   "execution_count": 33,
   "metadata": {
    "collapsed": true
   },
   "outputs": [],
   "source": [
    "#Dividing the ratings into multiple samples\n",
    "exceptional = data[data['Rating'] =='AAAAA (Exceptional)']\n",
    "outstanding = data[data['Rating']=='AAAA+ (Outstanding)']\n",
    "very_good = data[data['Rating']=='AAAA (Very Good)']\n",
    "good = data[data['Rating'] =='AAA+ (Good)']\n",
    "abv_avg = data[data['Rating'] =='AAA (Above Average)']\n",
    "no_rating = data[data['Rating'] == 'No Rating']"
   ]
  },
  {
   "cell_type": "markdown",
   "metadata": {
    "collapsed": true
   },
   "source": [
    "##### We have multiple samples,so we have to use ANOVA i.e. Analysis of Variance\n",
    "##### Null hypothesis Ho: All Ratings have no significance difference\n",
    "##### Alternate hypothesis H1: All Ratings have a significance difference between them"
   ]
  },
  {
   "cell_type": "code",
   "execution_count": 34,
   "metadata": {},
   "outputs": [
    {
     "name": "stdout",
     "output_type": "stream",
     "text": [
      "192.10902735028282 2.577578403114943e-192\n"
     ]
    }
   ],
   "source": [
    "import scipy.stats as stats\n",
    "f_value, p_value = stats.f_oneway(exceptional['Fee'],outstanding['Fee'],very_good['Fee'],good['Fee'],abv_avg['Fee'],no_rating['Fee'])\n",
    "print(f_value,p_value)"
   ]
  },
  {
   "cell_type": "markdown",
   "metadata": {
    "collapsed": true
   },
   "source": [
    "##### P-value is less than 0.05, we can reject null hypothesis, but we didn't know which sample is higher compared to other, for that we can use pairwise_tukeyhsd to compare means of all samples"
   ]
  },
  {
   "cell_type": "code",
   "execution_count": 35,
   "metadata": {
    "collapsed": true
   },
   "outputs": [],
   "source": [
    "from statsmodels.stats.multicomp import pairwise_tukeyhsd"
   ]
  },
  {
   "cell_type": "code",
   "execution_count": 36,
   "metadata": {},
   "outputs": [
    {
     "name": "stdout",
     "output_type": "stream",
     "text": [
      "                  Multiple Comparison of Means - Tukey HSD,FWER=0.05                 \n",
      "=====================================================================================\n",
      "       group1              group2         meandiff      lower        upper     reject\n",
      "-------------------------------------------------------------------------------------\n",
      "AAA (Above Average)     AAA+ (Good)      68788.9748    7940.295   129637.6546   True \n",
      "AAA (Above Average)   AAAA (Very Good)  138186.7282   68352.3164  208021.1401   True \n",
      "AAA (Above Average) AAAA+ (Outstanding)  277309.353  172057.8227  382560.8834   True \n",
      "AAA (Above Average) AAAAA (Exceptional) 365713.5723  123301.9426  608125.2021   True \n",
      "AAA (Above Average)      No Rating      -188284.2831 -235078.2369 -141490.3292  True \n",
      "    AAA+ (Good)       AAAA (Very Good)   69397.7535   3779.8808   135015.6262   True \n",
      "    AAA+ (Good)     AAAA+ (Outstanding) 208520.3782  106017.9647  311022.7918   True \n",
      "    AAA+ (Good)     AAAAA (Exceptional) 296924.5975   55693.8815  538155.3136   True \n",
      "    AAA+ (Good)          No Rating      -257073.2579 -297304.269  -216842.2467  True \n",
      "  AAAA (Very Good)  AAAA+ (Outstanding) 139122.6248   31043.8201  247201.4295   True \n",
      "  AAAA (Very Good)  AAAAA (Exceptional) 227526.8441  -16125.6577  471179.3459  False \n",
      "  AAAA (Very Good)       No Rating      -326471.0113 -379318.1257 -273623.8969  True \n",
      "AAAA+ (Outstanding) AAAAA (Exceptional)  88404.2193  -167657.4553 344465.8939  False \n",
      "AAAA+ (Outstanding)      No Rating      -465593.6361 -560429.5843 -370757.6879  True \n",
      "AAAAA (Exceptional)      No Rating      -553997.8554 -792072.1519 -315923.5589  True \n",
      "-------------------------------------------------------------------------------------\n"
     ]
    }
   ],
   "source": [
    "grp_comp = pairwise_tukeyhsd(data[\"Fee\"], data[\"Rating\"] )\n",
    "print(grp_comp)"
   ]
  },
  {
   "cell_type": "markdown",
   "metadata": {
    "collapsed": true
   },
   "source": [
    "##### by observing above table we can find which rating has higher fee compared to other rating"
   ]
  },
  {
   "cell_type": "markdown",
   "metadata": {
    "colab_type": "text",
    "id": "nl6rrUQSpyZA"
   },
   "source": [
    "------------------------------------"
   ]
  },
  {
   "cell_type": "markdown",
   "metadata": {
    "colab_type": "text",
    "id": "dloabh5xqXK6"
   },
   "source": [
    "### Private institutes have higher fees than the Govt. ones. Test this hypothesis. Try out multiple statistical tests for the same. Choose the level of significance (alpha = 0.05). <br> What happens when you try this out with a different alpha?\n"
   ]
  },
  {
   "cell_type": "markdown",
   "metadata": {
    "collapsed": true
   },
   "source": [
    "#### Null hypothesis Ho: Private institutes have no significance difference with Government institutes\n",
    "#### Alternate hypothesis H1: Private institutes have significance difference with Government institutes"
   ]
  },
  {
   "cell_type": "code",
   "execution_count": 37,
   "metadata": {
    "collapsed": true
   },
   "outputs": [],
   "source": [
    "from scipy.stats import ttest_ind  "
   ]
  },
  {
   "cell_type": "code",
   "execution_count": 38,
   "metadata": {},
   "outputs": [
    {
     "data": {
      "text/plain": [
       "Ttest_indResult(statistic=14.125141532544738, pvalue=1.0951265766002433e-44)"
      ]
     },
     "execution_count": 38,
     "metadata": {},
     "output_type": "execute_result"
    }
   ],
   "source": [
    "pvt = data[data['Sector'] =='Private']\n",
    "gvt = data[data['Sector'] =='Public/Government']\n",
    "\n",
    "ttest_ind(pvt['Fee'],gvt['Fee'])"
   ]
  },
  {
   "cell_type": "markdown",
   "metadata": {
    "collapsed": true
   },
   "source": [
    "##### P-value is less than 0.05 we can reject null hypothesis. Means there is a significance differene between private and govt institutes and statistic value is 14.12 which is positie shows private institutes have higher fee than government institutes."
   ]
  },
  {
   "cell_type": "markdown",
   "metadata": {
    "colab_type": "text",
    "id": "pMSAVx9Rqtmm"
   },
   "source": [
    "### Private institutes get better reviews than Govt. ones. Repeat the above exercise for this case now"
   ]
  },
  {
   "cell_type": "code",
   "execution_count": null,
   "metadata": {
    "collapsed": true
   },
   "outputs": [],
   "source": []
  },
  {
   "cell_type": "markdown",
   "metadata": {
    "colab_type": "text",
    "id": "7soSP97bq2A2"
   },
   "source": [
    "-----------------------"
   ]
  },
  {
   "cell_type": "markdown",
   "metadata": {
    "colab_type": "text",
    "id": "v1yYszGpq74M"
   },
   "source": [
    "### Identify which areas/locations are the education hubs of India? An area can be considered an education hub based if it has high density of good colleges"
   ]
  },
  {
   "cell_type": "code",
   "execution_count": 39,
   "metadata": {},
   "outputs": [
    {
     "data": {
      "text/plain": [
       "State\n",
       "Tamil Nadu                     1088\n",
       "Maharashtra                     871\n",
       "Uttar Pradesh                   599\n",
       "Andhra Pradesh                  469\n",
       "Karnataka                       462\n",
       "Telangana                       425\n",
       "Madhya Pradesh                  357\n",
       "Kerala                          340\n",
       "Gujarat                         293\n",
       "Haryana                         293\n",
       "Punjab                          286\n",
       "Rajasthan                       283\n",
       "Odisha                          229\n",
       "West Bengal                     227\n",
       "Bihar                           123\n",
       "Uttarakhand                     123\n",
       "Chhattisgarh                    104\n",
       "Delhi                            74\n",
       "Jharkhand                        71\n",
       "Himachal Pradesh                 64\n",
       "Assam                            50\n",
       "Jammu and Kashmir                30\n",
       "Puducherry                       25\n",
       "Chandigarh                       15\n",
       "Goa                              13\n",
       "Tripura                          12\n",
       "Meghalaya                        11\n",
       "Arunachal Pradesh                10\n",
       "Manipur                           8\n",
       "Nagaland                          7\n",
       "Sikkim                            5\n",
       "Mizoram                           5\n",
       "Jammu and kashmir                 1\n",
       "Krasnoyarsk Krai                  1\n",
       "Andaman and Nicobar Islands       1\n",
       "Alberta                           1\n",
       "Name: Institute_Name, dtype: int64"
      ]
     },
     "execution_count": 39,
     "metadata": {},
     "output_type": "execute_result"
    }
   ],
   "source": [
    "data.groupby('State')['Institute_Name'].count().sort_values(ascending=False)"
   ]
  },
  {
   "cell_type": "code",
   "execution_count": 30,
   "metadata": {
    "colab_type": "text",
    "id": "quJTLB2XrME0"
   },
   "outputs": [
    {
     "data": {
      "image/png": "[encoded data removed]",
      "text/plain": [
       "<Figure size 432x288 with 1 Axes>"
      ]
     },
     "metadata": {
      "needs_background": "light"
     },
     "output_type": "display_data"
    }
   ],
   "source": [
    "data['State'].value_counts().plot(kind='bar', color='green')\n",
    "plt.show()"
   ]
  },
  {
   "cell_type": "markdown",
   "metadata": {
    "collapsed": true
   },
   "source": [
    "#### Tamilnadu has highest number of institutes followed by Maharashtra"
   ]
  },
  {
   "cell_type": "code",
   "execution_count": null,
   "metadata": {
    "collapsed": true
   },
   "outputs": [],
   "source": []
  }
 ],
 "metadata": {
  "colab": {
   "collapsed_sections": [],
   "name": "engg-colleges-eda.ipynb",
   "provenance": []
  },
  "kernelspec": {
   "display_name": "Python 3",
   "language": "python",
   "name": "python3"
  },
  "language_info": {
   "codemirror_mode": {
    "name": "ipython",
    "version": 3
   },
   "file_extension": ".py",
   "mimetype": "text/x-python",
   "name": "python",
   "nbconvert_exporter": "python",
   "pygments_lexer": "ipython3",
   "version": "3.6.0"
  }
 },
 "nbformat": 4,
 "nbformat_minor": 1
}
